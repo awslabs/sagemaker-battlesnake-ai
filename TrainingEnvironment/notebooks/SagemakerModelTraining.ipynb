{
 "cells": [
  {
   "cell_type": "markdown",
   "metadata": {},
   "source": [
    "Initialisations to change the base directory of the entry scripts and to update mxnet to the newest mxnet-mkl"
   ]
  },
  {
   "cell_type": "code",
   "execution_count": null,
   "metadata": {},
   "outputs": [],
   "source": [
    "!sed -i 's/examples.//g' battlesnake_src/train.py\n",
    "!sed -i 's/examples.//g' battlesnake_src/networks/agent.py\n",
    "!sed -i '1i import subprocess\\nsubprocess.run([\"pip\",  \"uninstall\", \"mxnet-mkl\", \"-y\"])\\nsubprocess.run([\"pip\",  \"install\", \"mxnet-mkl\", \"--pre\"])\\nsubprocess.run([\"pip\",  \"install\", \"pandas\"])' battlesnake_src/train.py"
   ]
  },
  {
   "cell_type": "code",
   "execution_count": null,
   "metadata": {},
   "outputs": [],
   "source": [
    "import boto3\n",
    "import sagemaker\n",
    "import numpy as np\n",
    "\n",
    "from sagemaker.tuner import IntegerParameter, CategoricalParameter, ContinuousParameter, HyperparameterTuner\n",
    "from sagemaker.mxnet.estimator import MXNet"
   ]
  },
  {
   "cell_type": "code",
   "execution_count": null,
   "metadata": {},
   "outputs": [],
   "source": [
    "run_hpo = False\n",
    "map_size = (15, 15)"
   ]
  },
  {
   "cell_type": "markdown",
   "metadata": {},
   "source": [
    "## Initialise sagemaker\n",
    "We need to define several parameters prior to running the training job. \n",
    "note: `local_mode` defines whether to run the code within this notebook or to run a sagemaker training job"
   ]
  },
  {
   "cell_type": "code",
   "execution_count": null,
   "metadata": {},
   "outputs": [],
   "source": [
    "sage_session = sagemaker.session.Session()\n",
    "s3_bucket = sage_session.default_bucket()  \n",
    "s3_output_path = 's3://{}/'.format(s3_bucket)\n",
    "print(\"S3 bucket path: {}\".format(s3_output_path))\n",
    "\n",
    "# Run on local mode if no HPO is required\n",
    "if run_hpo == False:\n",
    "    local_mode = True\n",
    "else:\n",
    "    local_mode = False\n",
    "    \n",
    "if local_mode:\n",
    "    train_instance_type = 'local'\n",
    "else:\n",
    "    train_instance_type = \"ml.m5.xlarge\"\n",
    "endpoint_instance_type = \"ml.m5.xlarge\"\n",
    "    \n",
    "role = sagemaker.get_execution_role()\n",
    "print(\"Using IAM role arn: {}\".format(role))\n",
    "\n",
    "# only run from SageMaker notebook instance\n",
    "if local_mode:\n",
    "    !/bin/bash ./setup.sh"
   ]
  },
  {
   "cell_type": "markdown",
   "metadata": {},
   "source": [
    "## Define the attributes of the training job\n",
    "Use `job_name_prefix` to identify the sagemaker training job for this."
   ]
  },
  {
   "cell_type": "code",
   "execution_count": null,
   "metadata": {},
   "outputs": [],
   "source": [
    "job_name_prefix = 'Battlesnake-job'"
   ]
  },
  {
   "cell_type": "markdown",
   "metadata": {},
   "source": [
    "## Define the metrics to evaluate your training job\n",
    "The regex for this metric was defined based on what is printed in the training script `examples/train.py`"
   ]
  },
  {
   "cell_type": "code",
   "execution_count": null,
   "metadata": {},
   "outputs": [],
   "source": [
    "metric_definitions = [\n",
    "    {'Name': 'timesteps', 'Regex': '.*Mean timesteps ([-+]?[0-9]*[.]?[0-9]+([eE][-+]?[0-9]+)?)'},\n",
    "]"
   ]
  },
  {
   "cell_type": "markdown",
   "metadata": {},
   "source": [
    "## Define the hyperparameters of your job"
   ]
  },
  {
   "cell_type": "code",
   "execution_count": null,
   "metadata": {},
   "outputs": [],
   "source": [
    "map_size_string = \"[{}, {}]\".format(map_size[0], map_size[1])\n",
    "static_hyperparameters = {\n",
    "    'qnetwork_type': \"attention\",\n",
    "    'seed': 666,\n",
    "    'number_of_snakes': 4,\n",
    "    'episodes': 2200,\n",
    "    'print_score_steps': 10,\n",
    "    'activation_type': \"softrelu\",\n",
    "    'state_type': 'one_versus_all',\n",
    "    'sequence_length': 2,\n",
    "    'repeat_size': 3,\n",
    "    'kernel_size': 3,\n",
    "    'starting_channels': 6,\n",
    "    'map_size': map_size_string,\n",
    "    'snake_representation': 'bordered-51s',\n",
    "    'save_model_every': 700,\n",
    "    'eps_start': 0.99,\n",
    "    'models_to_save': 'local'\n",
    "}"
   ]
  },
  {
   "cell_type": "markdown",
   "metadata": {},
   "source": [
    "# Train your model here\n",
    "Defines the estimator. Firstly, try run this with `local_model = True` to test your entry_point script"
   ]
  },
  {
   "cell_type": "code",
   "execution_count": null,
   "metadata": {
    "scrolled": true
   },
   "outputs": [],
   "source": [
    "estimator = MXNet(entry_point=\"train.py\",\n",
    "                  source_dir='battlesnake_src',\n",
    "                  dependencies=[\"battlesnake_gym/\"],\n",
    "                  role=role,\n",
    "                  train_instance_type=train_instance_type,\n",
    "                  train_instance_count=1,\n",
    "                  output_path=s3_output_path,\n",
    "                  framework_version=\"1.6.0\",\n",
    "                  py_version='py3',\n",
    "                  base_job_name=job_name_prefix,\n",
    "                  metric_definitions=metric_definitions,\n",
    "                  hyperparameters=static_hyperparameters\n",
    "                 )\n",
    "if local_mode:\n",
    "    estimator.fit()"
   ]
  },
  {
   "cell_type": "markdown",
   "metadata": {},
   "source": [
    "# Running hyperparameter optimisation\n",
    "Start the Hyperparameter optimisation sagemaker jobs!"
   ]
  },
  {
   "cell_type": "code",
   "execution_count": null,
   "metadata": {},
   "outputs": [],
   "source": [
    "hyperparameter_ranges = {\n",
    "    'buffer_size': IntegerParameter(1000, 6000),\n",
    "    'update_every': IntegerParameter(10, 20),\n",
    "    'batch_size': IntegerParameter(16, 256),\n",
    "\n",
    "    'lr_start': ContinuousParameter(1e-5, 1e-3),\n",
    "    'lr_factor': ContinuousParameter(0.5, 1.0),\n",
    "    'lr_step': IntegerParameter(5000, 30000),\n",
    "    \n",
    "    'tau': ContinuousParameter(1e-4, 1e-3),\n",
    "    'gamma': ContinuousParameter(0.85, 0.99),\n",
    "    \n",
    "    'depth': IntegerParameter(10, 256),\n",
    "    'depthS': IntegerParameter(10, 256),\n",
    "}"
   ]
  },
  {
   "cell_type": "code",
   "execution_count": null,
   "metadata": {},
   "outputs": [],
   "source": [
    "max_jobs = 3\n",
    "max_parallel_jobs = 3\n",
    "\n",
    "tuner = HyperparameterTuner(estimator,\n",
    "                            objective_metric_name='timesteps',\n",
    "                            objective_type='Maximize',\n",
    "                            hyperparameter_ranges=hyperparameter_ranges,\n",
    "                            metric_definitions=metric_definitions,\n",
    "                            max_jobs=max_jobs,\n",
    "                            max_parallel_jobs=max_parallel_jobs,\n",
    "                            base_tuning_job_name=job_name_prefix)\n",
    "if run_hpo:\n",
    "    tuner.fit()"
   ]
  },
  {
   "cell_type": "markdown",
   "metadata": {},
   "source": [
    "Now wait for the hyper parameter turner to complete"
   ]
  },
  {
   "cell_type": "markdown",
   "metadata": {},
   "source": [
    "# Collect the target model\n",
    "Obtain an s3 URL of the best model"
   ]
  },
  {
   "cell_type": "code",
   "execution_count": null,
   "metadata": {},
   "outputs": [],
   "source": [
    "if run_hpo:\n",
    "    best_training_job = tuner.best_training_job()\n",
    "    best_model_path = \"{}/{}/output/model.tar.gz\".format(s3_output_path, best_training_job)\n",
    "else:\n",
    "    best_model_path = estimator.model_data\n",
    "print(\"Best model location {}\".format(best_model_path))"
   ]
  },
  {
   "cell_type": "code",
   "execution_count": null,
   "metadata": {},
   "outputs": [],
   "source": [
    "s3_client = boto3.client('s3')\n",
    "key = \"/\".join(best_model_path[5:].split(\"/\")[1:])\n",
    "copy_source = {'Bucket': s3_bucket, 'Key': key}\n",
    "target_key = \"battlesnake-pretrainedmodels/Model-{}x{}/Model.tar.gz\".format(map_size[0], map_size[1])\n",
    "s3_client.copy_object(Bucket=s3_bucket, CopySource=copy_source, Key=target_key)"
   ]
  },
  {
   "cell_type": "markdown",
   "metadata": {},
   "source": [
    "# Update endpoint with your new model"
   ]
  },
  {
   "cell_type": "code",
   "execution_count": null,
   "metadata": {
    "scrolled": true
   },
   "outputs": [],
   "source": [
    "model_data = \"s3://{}/{}\".format(s3_bucket, target_key)\n",
    "\n",
    "from sagemaker.mxnet import MXNetModel\n",
    "mxnet_model = MXNetModel(model_data=model_data,\n",
    "                             entry_point='predict.py',\n",
    "                             role=role,\n",
    "                             framework_version='1.6.0',\n",
    "                             source_dir='battlesnake_inference',\n",
    "                             name=\"battlesnake-mxnet\",\n",
    "                             py_version='py3')\n",
    "predictor = mxnet_model.deploy(initial_instance_count=1,\n",
    "                               instance_type=endpoint_instance_type,\n",
    "                               update_endpoint=True,\n",
    "                               endpoint_name='battlesnake-endpoint')"
   ]
  },
  {
   "cell_type": "code",
   "execution_count": null,
   "metadata": {
    "scrolled": true
   },
   "outputs": [],
   "source": [
    "data1 = np.zeros(shape=(1, 2, 3, map_size[0]+2, map_size[1]+2))\n",
    "data2 = np.zeros(shape=(1, 2))\n",
    "data3 = np.zeros(shape=(1, 2))\n",
    "data4 = np.zeros(shape=(1, 2))\n",
    "action = predictor.predict({\"state\": data1, \"snake_id\": data2, \"turn_count\": data3, \"health\": data4})\n",
    "print(\"Predicted action is {}\".format(action))"
   ]
  },
  {
   "cell_type": "markdown",
   "metadata": {},
   "source": [
    "# Multi data model - WIP"
   ]
  },
  {
   "cell_type": "code",
   "execution_count": null,
   "metadata": {},
   "outputs": [],
   "source": [
    "from sagemaker.multidatamodel import MultiDataModel\n",
    "from sagemaker.mxnet import MXNetModel\n",
    "mxnet_model = MXNetModel(model_data=best_model_path,\n",
    "                         entry_point='predict.py',\n",
    "                         role=role,\n",
    "                         framework_version='1.6.0',\n",
    "                         source_dir='battlesnake_inference',\n",
    "                         name=\"battlesnake-mxnet\",\n",
    "                         py_version='py3', \n",
    "                         sagemaker_session=sage_session)\n",
    "predictor = mxnet_model.deploy(initial_instance_count=1,\n",
    "                               instance_type=endpoint_instance_type,\n",
    "                               endpoint_name='battlesnake-endpoint')"
   ]
  },
  {
   "cell_type": "code",
   "execution_count": null,
   "metadata": {
    "scrolled": true
   },
   "outputs": [],
   "source": [
    "multi_model_path = \"{}/battlesnake-pretrainedmodels\".format(s3_output_path)\n",
    "\n",
    "sagemaker_multidata_model = MultiDataModel(\"battlesnake-mdm\", multi_model_path,\n",
    "                                           model=sagemaker_model, sagemaker_session=sage_session)\n",
    "predictor = sagemaker_multidata_model.deploy(initial_instance_count=1,\n",
    "                                   instance_type=endpoint_instance_type,\n",
    "                                   endpoint_name='battlesnake-endpoint-mdm')"
   ]
  },
  {
   "cell_type": "code",
   "execution_count": null,
   "metadata": {},
   "outputs": [],
   "source": [
    "data1 = np.zeros(shape=(1, 2, 3, 17, 17))\n",
    "data2 = np.zeros(shape=(1, 2))\n",
    "data3 = np.zeros(shape=(1, 2))\n",
    "data4 = np.zeros(shape=(1, 2))\n",
    "predictor.predict({\"state\": data1, \"snake_id\": data2, \"turn_count\": data3, \"health\": data4}, target_model=\"Model-15x15.tar.gz\")"
   ]
  },
  {
   "cell_type": "code",
   "execution_count": null,
   "metadata": {},
   "outputs": [],
   "source": []
  }
 ],
 "metadata": {
  "kernelspec": {
   "display_name": "conda_mxnet_p36",
   "language": "python",
   "name": "conda_mxnet_p36"
  },
  "language_info": {
   "codemirror_mode": {
    "name": "ipython",
    "version": 3
   },
   "file_extension": ".py",
   "mimetype": "text/x-python",
   "name": "python",
   "nbconvert_exporter": "python",
   "pygments_lexer": "ipython3",
   "version": "3.6.5"
  }
 },
 "nbformat": 4,
 "nbformat_minor": 4
}
