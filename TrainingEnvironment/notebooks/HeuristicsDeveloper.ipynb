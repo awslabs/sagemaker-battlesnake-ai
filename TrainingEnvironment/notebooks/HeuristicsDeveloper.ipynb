{
 "cells": [
  {
   "cell_type": "code",
   "execution_count": null,
   "metadata": {},
   "outputs": [],
   "source": [
    "!pip install -r battlesnake_gym/requirements.txt\n",
    "!pip install -e battlesnake_gym/"
   ]
  },
  {
   "cell_type": "code",
   "execution_count": null,
   "metadata": {},
   "outputs": [],
   "source": [
    "from collections import namedtuple\n",
    "\n",
    "import gym\n",
    "from gym import wrappers\n",
    "import numpy as np\n",
    "import mxnet as mx\n",
    "import matplotlib.pyplot as plt\n",
    "%matplotlib inline\n",
    "from IPython import display\n",
    "\n",
    "from battlesnake_gym.battlesnake_gym.snake_gym import BattleSnakeGym\n",
    "from battlesnake_src.networks.utils import sort_states_for_snake_id"
   ]
  },
  {
   "cell_type": "markdown",
   "metadata": {},
   "source": [
    "# Define the openAI gym\n",
    "The parameters here must match the ones provided during training"
   ]
  },
  {
   "cell_type": "code",
   "execution_count": null,
   "metadata": {},
   "outputs": [],
   "source": [
    "map_size = (15, 15)\n",
    "number_of_snakes = 4\n",
    "env = BattleSnakeGym(map_size=map_size, number_of_snakes=number_of_snakes, observation_type=\"bordered-51s\")"
   ]
  },
  {
   "cell_type": "markdown",
   "metadata": {},
   "source": [
    "# Load the trained model"
   ]
  },
  {
   "cell_type": "code",
   "execution_count": null,
   "metadata": {},
   "outputs": [],
   "source": [
    "params_name = \"pretrained_models/Model/local-0000.params\".format(map_size[0], map_size[1])\n",
    "symbol_name = \"pretrained_models/Model/local-symbol.json\".format(map_size[0], map_size[1])\n",
    "\n",
    "ctx = mx.gpu() if mx.context.num_gpus() > 0 else mx.cpu()\n",
    "net = mx.gluon.SymbolBlock.imports(symbol_name, ['data0', 'data1', 'data2', 'data3'],\n",
    "                                   params_name, ctx=ctx)\n",
    "net.hybridize(static_alloc=True, static_shape=True)"
   ]
  },
  {
   "cell_type": "markdown",
   "metadata": {},
   "source": [
    "Net takes the following arguments:\n",
    "`net(state, snake_id, turn_count, snake_health)`\n",
    "\n",
    "`state`: *nd.array* of size (batch_size, sequence_length=2, c=3, map_size[0]+2, mapsize[1]+2)\n",
    "- Provides the observation space of the gym\n",
    "- `batch_size` should be set to 1\n",
    "- `sequence_length` provides the number of timesteps back the model considers. Give `t` is the current time step, `c=0`   refers to `t-1` and `c=1` is t.\n",
    "- Each `c` slide refers to the *food*, *current snake*, and *other snakes* respectively.\n",
    "- `map_size` is based on the size of the BattleSnakeGym +2 for the -1 border.\n",
    "\n",
    "`snake_id`: *nd.array* of size (batch_size, sequence_length=2)\n",
    "- Provides the id of the snake, which is a i \\in [0...number_of_snakes-1]\n",
    "\n",
    "`turn_count`: *nd.array* of size (batch_size, sequence_length=2)\n",
    "- Provides the number of turns that has elapsed (obtained from `info[\"current_turn\"]` in the gym)\n",
    "\n",
    "`snake_health`: *nd.array* of size (batch_size, sequence_length=2)\n",
    "- Provides the health of the snake (obtained from `info[\"snake_health\"]` in the gym)"
   ]
  },
  {
   "cell_type": "markdown",
   "metadata": {},
   "source": [
    "# Visualisation loop"
   ]
  },
  {
   "cell_type": "code",
   "execution_count": null,
   "metadata": {},
   "outputs": [],
   "source": [
    "def get_action(state, snake_id, turn_count, health, memory):\n",
    "    '''\n",
    "    Processes the input data to be fed into the defined neural network.\n",
    "\n",
    "    Parameters:\n",
    "    -----------\n",
    "    `state`: np.array of size (3, map_size[0]+2, map_size[1]+2)\n",
    "    Provides the current observation of the gym\n",
    "    \n",
    "    `snake_id`: int\n",
    "    Indicates the id where id \\in [0...number_of_snakes]\n",
    "    \n",
    "    `turn_count`: int\n",
    "    Indicates the number of elapsed turns\n",
    "    \n",
    "    `health`: dict\n",
    "    Indicates the health of all snakes in the form of {snake_id: health}\n",
    "    \n",
    "    `memory`: (state, turn_count, health)\n",
    "    Indicates the state, turn_count, and health of the previous turn.\n",
    "    \n",
    "    Returns:\n",
    "    -----------\n",
    "    `action`: np.array \n",
    "    The expected q value of the action.\n",
    "    i.e., the larger the value the better the action is.\n",
    "    To get the next best action, perform np.argmax(action)\n",
    "    '''\n",
    "    sequence_length = 2\n",
    "    state_i = sort_states_for_snake_id(state, i+1, one_versus_all=True)\n",
    "    previous_state_i = sort_states_for_snake_id(memory.state, i+1, one_versus_all=True)\n",
    "    state_sequence = mx.nd.array(np.stack([previous_state_i, state_i]), ctx=ctx).transpose((0, 3, 1, 2)).expand_dims(0)\n",
    "    \n",
    "    snake_id_sequence = mx.nd.array([snake_id]*sequence_length, ctx=ctx).expand_dims(0)\n",
    "    turn_count_sequence = mx.nd.array([memory.turn_count, turn_count], ctx=ctx).expand_dims(0)\n",
    "    snake_health_sequence = mx.nd.array([memory.health[snake_id], health[snake_id]], ctx=ctx).expand_dims(0)\n",
    "        \n",
    "    action = net(state_sequence, snake_id_sequence, turn_count_sequence, snake_health_sequence)\n",
    "    return action.asnumpy()[0]"
   ]
  },
  {
   "cell_type": "code",
   "execution_count": null,
   "metadata": {},
   "outputs": [],
   "source": [
    "from battlesnake_inference.battlesnake_heuristics import MyBattlesnakeHeuristics\n",
    "\n",
    "Memory = namedtuple(\"Memory\", \"state turn_count health\")\n",
    "heuristics = MyBattlesnakeHeuristics()\n",
    "\n",
    "state, _, _, info = env.reset()\n",
    "memory = Memory(state=np.zeros(state.shape), turn_count=info[\"current_turn\"], health=info[\"snake_health\"])\n",
    "while True:\n",
    "    info[\"current_turn\"] += 1\n",
    "    actions = []\n",
    "    for i in range(number_of_snakes):\n",
    "        action = get_action(state, snake_id=i,\n",
    "                            turn_count=info[\"current_turn\"]+1,\n",
    "                            health=info[\"snake_health\"],\n",
    "                            memory=memory)        \n",
    "        # Add heuristics\n",
    "        action = heuristics.run(state, snake_id=i,\n",
    "                                turn_count=info[\"current_turn\"]+1,\n",
    "                                health=info[\"snake_health\"], \n",
    "                                action=action)\n",
    "        actions.append(action)\n",
    "    memory = Memory(state=state, turn_count=info[\"current_turn\"], \n",
    "                    health=info[\"snake_health\"])\n",
    "    next_state, reward, dones, infos = env.step(np.array(actions))\n",
    "    \n",
    "    # Check if only 1 snake remains\n",
    "    number_of_snakes_alive = sum(list(dones.values()))\n",
    "    if number_of_snakes - number_of_snakes_alive <= 1:\n",
    "        done = True\n",
    "    else:\n",
    "        done = False\n",
    "    \n",
    "    state = next_state\n",
    "    if done:\n",
    "        print(\"Completed\")\n",
    "        break  \n",
    "        \n",
    "    \n",
    "    # Display the results\n",
    "    rgb_array = env.render(mode=\"rgb_array\")\n",
    "    plt.clf()\n",
    "    \n",
    "    health_str = \"\".join([\"s{}={} \".format(k, infos[\"snake_health\"][k]) for k in infos[\"snake_health\"]])\n",
    "    plt.title(\"{}, health {}\".format(info[\"current_turn\"],\n",
    "                                     health_str))\n",
    "    plt.imshow(rgb_array)\n",
    "    plt.axis('off')\n",
    "    \n",
    "    display.clear_output(wait=True)\n",
    "    display.display(plt.gcf())"
   ]
  },
  {
   "cell_type": "markdown",
   "metadata": {},
   "source": [
    "# Deploy your new heuristics"
   ]
  },
  {
   "cell_type": "code",
   "execution_count": null,
   "metadata": {},
   "outputs": [],
   "source": [
    "import sagemaker\n",
    "\n",
    "sage_session = sagemaker.session.Session()\n",
    "s3_bucket = sage_session.default_bucket()\n",
    "\n",
    "target_key = \"battlesnake-pretrainedmodels/Model-{}x{}/Model.tar.gz\".format(map_size[0], map_size[1])\n",
    "\n",
    "model_data = \"s3://{}/{}\".format(s3_bucket, target_key)\n",
    "\n",
    "from sagemaker.mxnet import MXNetModel\n",
    "mxnet_model = MXNetModel(model_data=model_data,\n",
    "                             entry_point='predict.py',\n",
    "                             role=role,\n",
    "                             framework_version='1.6.0',\n",
    "                             source_dir='battlesnake_inference',\n",
    "                             name=\"battlesnake-mxnet\",\n",
    "                             py_version='py3')\n",
    "predictor = mxnet_model.deploy(initial_instance_count=1,\n",
    "                               instance_type=endpoint_instance_type,\n",
    "                               update_endpoint=True,\n",
    "                               endpoint_name='battlesnake-endpoint')"
   ]
  }
 ],
 "metadata": {
  "kernelspec": {
   "display_name": "conda_mxnet_p36",
   "language": "python",
   "name": "conda_mxnet_p36"
  },
  "language_info": {
   "codemirror_mode": {
    "name": "ipython",
    "version": 3
   },
   "file_extension": ".py",
   "mimetype": "text/x-python",
   "name": "python",
   "nbconvert_exporter": "python",
   "pygments_lexer": "ipython3",
   "version": "3.6.5"
  }
 },
 "nbformat": 4,
 "nbformat_minor": 4
}
