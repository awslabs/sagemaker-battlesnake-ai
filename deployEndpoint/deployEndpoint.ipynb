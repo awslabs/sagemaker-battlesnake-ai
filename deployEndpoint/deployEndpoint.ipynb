{
 "cells": [
  {
   "cell_type": "markdown",
   "metadata": {},
   "source": [
    "# Create sagemaker endpoints\n",
    "This notebook creates sagemaker endpoints with the pretrained models"
   ]
  },
  {
   "cell_type": "code",
   "execution_count": null,
   "metadata": {},
   "outputs": [],
   "source": [
    "import boto3\n",
    "import sagemaker\n",
    "import os\n",
    "import numpy as np\n",
    "import urllib.request\n",
    "\n",
    "endpoint_instance_type = \"ml.m5.xlarge\"\n",
    "sage_session = sagemaker.session.Session()\n",
    "s3_bucket = sage_session.default_bucket()  \n",
    "role = sagemaker.get_execution_role()\n",
    "print(\"Your sagemaker s3_bucker is s3://{}\".format(s3_bucket))"
   ]
  },
  {
   "cell_type": "code",
   "execution_count": null,
   "metadata": {},
   "outputs": [],
   "source": [
    "models = [\"Model-7x7\", \n",
    "          \"Model-11x11\", \n",
    "          \"Model-15x15\", \n",
    "          \"Model-19x19\"]"
   ]
  },
  {
   "cell_type": "markdown",
   "metadata": {},
   "source": [
    "# Get the pretrained models"
   ]
  },
  {
   "cell_type": "code",
   "execution_count": null,
   "metadata": {},
   "outputs": [],
   "source": [
    "if not os.path.exists(\"pretrained_models\"):\n",
    "    os.mkdir(\"pretrained_models\")\n",
    "\n",
    "source_url = \"https://battlesnake-aws-{region}.s3-{region}.amazonaws.com/pretrainedmodels/{model_name}/Model.tar.gz\"\n",
    "for model in models:\n",
    "    url = source_url.format(region=sage_session.boto_region_name, model_name=model)\n",
    "    if not os.path.exists(\"pretrained_models/{}\".format(model)):\n",
    "        os.mkdir(\"pretrained_models/{}\".format(model))\n",
    "    urllib.request.urlretrieve(url, \"pretrained_models/{}/Model.tar.gz\".format(model))"
   ]
  },
  {
   "cell_type": "markdown",
   "metadata": {},
   "source": [
    "### Make your own S3 bucket and copy the pre-trained models into your own bucket\n",
    "An s3 bucket is a cloud storage. In this section, we will make a bucket in your AWS account then copy the pre-trained models from public S3 bucket into your own bucket"
   ]
  },
  {
   "cell_type": "code",
   "execution_count": null,
   "metadata": {},
   "outputs": [],
   "source": [
    "s3_client = boto3.client('s3')\n",
    "for model in models:\n",
    "    s3_client.upload_file(\"pretrained_models/{}/Model.tar.gz\".format(model), s3_bucket, \n",
    "                          \"battlesnake-pretrainedmodels/{}/Model.tar.gz\".format(model))"
   ]
  },
  {
   "cell_type": "markdown",
   "metadata": {},
   "source": [
    "# Create a sagemaker endpoint with the bucket\n"
   ]
  },
  {
   "cell_type": "code",
   "execution_count": null,
   "metadata": {},
   "outputs": [],
   "source": [
    "map_size = (19, 19)\n",
    "model_data = \"s3://{}/battlesnake-pretrainedmodels/Model-{}x{}/Model.tar.gz\".format(s3_bucket, map_size[0], map_size[1])\n",
    "print(\"Make an endpoint with {}\".format(model_data))"
   ]
  },
  {
   "cell_type": "code",
   "execution_count": null,
   "metadata": {
    "scrolled": true
   },
   "outputs": [],
   "source": [
    "from sagemaker.mxnet import MXNetModel\n",
    "mxnet_model = MXNetModel(model_data=model_data,\n",
    "                             entry_point='predict.py',\n",
    "                             role=role,\n",
    "                             framework_version='1.6.0',\n",
    "                             source_dir='battlesnake_inference',\n",
    "                             name=\"battlesnake-mxnet123\",\n",
    "                             py_version='py3')\n",
    "predictor = mxnet_model.deploy(initial_instance_count=1,\n",
    "                               instance_type=endpoint_instance_type,\n",
    "                               update_endpoint=False,\n",
    "                               endpoint_name='battlesnake-endpoint')"
   ]
  },
  {
   "cell_type": "markdown",
   "metadata": {},
   "source": [
    "# Test the model"
   ]
  },
  {
   "cell_type": "code",
   "execution_count": null,
   "metadata": {
    "scrolled": true
   },
   "outputs": [],
   "source": [
    "data1 = np.zeros(shape=(1, 2, 3, map_size[0]+2, map_size[1]+2))\n",
    "data2 = np.zeros(shape=(1, 2))\n",
    "data3 = np.zeros(shape=(1, 2))\n",
    "data4 = np.zeros(shape=(1, 2))\n",
    "action = predictor.predict({\"state\": data1, \"snake_id\": data2, \n",
    "                   \"turn_count\": data3, \"health\": data4})\n",
    "print(\"Action to take is {}\".format(action))"
   ]
  },
  {
   "cell_type": "code",
   "execution_count": null,
   "metadata": {},
   "outputs": [],
   "source": []
  }
 ],
 "metadata": {
  "kernelspec": {
   "display_name": "conda_mxnet_p36",
   "language": "python",
   "name": "conda_mxnet_p36"
  },
  "language_info": {
   "codemirror_mode": {
    "name": "ipython",
    "version": 3
   },
   "file_extension": ".py",
   "mimetype": "text/x-python",
   "name": "python",
   "nbconvert_exporter": "python",
   "pygments_lexer": "ipython3",
   "version": "3.6.5"
  }
 },
 "nbformat": 4,
 "nbformat_minor": 4
}
