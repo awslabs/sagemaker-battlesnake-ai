{
 "cells": [
  {
   "cell_type": "markdown",
   "metadata": {},
   "source": [
    "**Note**: When running this notebook on SageMaker Studio, you should make sure the 'SageMaker JumpStart Tensorflow 1.0' image/kernel is used. You can run run all cells at once or step through the notebook."
   ]
  },
  {
   "cell_type": "code",
   "execution_count": null,
   "metadata": {},
   "outputs": [],
   "source": [
    "from io import BytesIO\n",
    "import time\n",
    "import sys\n",
    "sys.path.append(\"../BattlesnakeGym\")\n",
    "import json\n",
    "import boto3\n",
    "import botocore\n",
    "import PIL.Image\n",
    "import sagemaker\n",
    "\n",
    "import numpy\n",
    "import gym\n",
    "from gym import wrappers\n",
    "import numpy as np\n",
    "import matplotlib.pyplot as plt\n",
    "import tensorflow as tf\n",
    "%matplotlib inline\n",
    "from importlib import reload\n",
    "from IPython import display\n",
    "import ipywidgets as widgets\n",
    "from IPython.display import display as i_display\n",
    "\n",
    "from heuristics_utils import simulate\n",
    "from battlesnake_gym.snake_gym import BattlesnakeGym"
   ]
  },
  {
   "cell_type": "markdown",
   "metadata": {},
   "source": [
    "# Introduction\n",
    "In this notebook, you can take the model that you've developed (or the pre-trained model provided) and develop heuristics to edit your snake's behaviour."
   ]
  },
  {
   "cell_type": "markdown",
   "metadata": {},
   "source": [
    "### Define the openAI gym\n",
    "Optionally, you can define the initial game state (the situation simulator) of the snakes and food.\n",
    "To use the initial state, set `USE_INITIAL_STATE = True` and enter the desired coordinates of the snake and food using the initial_state dictionary. The dictionary follows the same format as the battlesnake API."
   ]
  },
  {
   "cell_type": "code",
   "execution_count": null,
   "metadata": {},
   "outputs": [],
   "source": [
    "USE_INITIAL_STATE = False\n",
    "\n",
    "# Sample initial state for the situation simulator\n",
    "initial_state = {\n",
    "    \"turn\": 4,\n",
    "    \"board\": {\n",
    "        \"height\": 11,\n",
    "        \"width\": 11,\n",
    "        \"food\": [\n",
    "            {\n",
    "                \"x\": 1,\n",
    "                \"y\": 3\n",
    "            }\n",
    "        ],\n",
    "        \"snakes\": [{\n",
    "                        \"health\": 90,\n",
    "                        \"body\": [{\"x\": 3, \"y\": 0}],\n",
    "                    }, \n",
    "                    {\n",
    "                        \"health\": 90,\n",
    "                        \"body\": [{\"x\": 6, \"y\": 0}],\n",
    "                    },\n",
    "                    {\n",
    "                        \"health\": 90,\n",
    "                        \"body\": [{\"x\": 2, \"y\": 5}],\n",
    "                    },\n",
    "                    {\n",
    "                        \"health\": 90,\n",
    "                        \"body\": [{\"x\": 6, \"y\": 4}],\n",
    "                    },\n",
    "                    {\n",
    "                        \"health\": 90,\n",
    "                        \"body\": [{\"x\": 7, \"y\": 3}],\n",
    "                    },\n",
    "                  ]\n",
    "\n",
    "    }\n",
    "}\n",
    "\n",
    "if USE_INITIAL_STATE == False:\n",
    "    initial_state = None"
   ]
  },
  {
   "cell_type": "markdown",
   "metadata": {},
   "source": [
    "The parameters here must match the ones provided during training (except initial_state)"
   ]
  },
  {
   "cell_type": "code",
   "execution_count": null,
   "metadata": {},
   "outputs": [],
   "source": [
    "map_size = (11, 11)\n",
    "number_of_snakes = 5\n",
    "random_snake = False  # If this is set to true, the simulator will not use the network but just output random actions\n",
    "env = BattlesnakeGym(map_size=map_size, number_of_snakes=number_of_snakes, observation_type=\"max-bordered-51s\", \n",
    "                     initial_game_state=initial_state)"
   ]
  },
  {
   "cell_type": "markdown",
   "metadata": {},
   "source": [
    "# Load the trained model\n",
    "Load the RLlib model."
   ]
  },
  {
   "cell_type": "code",
   "execution_count": null,
   "metadata": {
    "scrolled": true
   },
   "outputs": [],
   "source": [
    "%cd inference\n",
    "!mkdir output\n",
    "!tar -C output -xvf model.tar.gz\n",
    "%cd .."
   ]
  },
  {
   "cell_type": "code",
   "execution_count": null,
   "metadata": {
    "scrolled": true
   },
   "outputs": [],
   "source": [
    "model_filepath = \"inference/output/1/\"\n",
    "if random_snake:\n",
    "    net = None\n",
    "else:\n",
    "    imported = tf.saved_model.load(model_filepath)\n",
    "    net = imported.signatures[\"serving_default\"]"
   ]
  },
  {
   "cell_type": "code",
   "execution_count": null,
   "metadata": {},
   "outputs": [],
   "source": [
    "# Clean up the model\n",
    "!rm -r inference/output"
   ]
  },
  {
   "cell_type": "markdown",
   "metadata": {},
   "source": [
    "# Simulation loop\n",
    "\n",
    "Run a simulation with the environment with the heuritics that you wrote. \n",
    "To edit the heuristics, edit the file `RLlibEnv/inference/src/battlesnake_heuristics`.\n",
    "Note that you can track the progress of your work with git."
   ]
  },
  {
   "cell_type": "code",
   "execution_count": null,
   "metadata": {},
   "outputs": [],
   "source": [
    "import inference.inference_src.battlesnake_heuristics\n",
    "reload(inference.inference_src.battlesnake_heuristics)\n",
    "from inference.inference_src.battlesnake_heuristics import MyBattlesnakeHeuristics\n",
    "\n",
    "heuristics = MyBattlesnakeHeuristics()\n",
    "infos, rgb_arrays, actions, heuristics_remarks, json_array = simulate(env, net, heuristics, number_of_snakes, random_snake)"
   ]
  },
  {
   "cell_type": "markdown",
   "metadata": {},
   "source": [
    "# Playback the simulation\n",
    "\n",
    "Defines the user interface of the simulator."
   ]
  },
  {
   "cell_type": "code",
   "execution_count": null,
   "metadata": {},
   "outputs": [],
   "source": [
    "def get_env_json():\n",
    "    if slider.value < len(json_array):\n",
    "        return json_array[slider.value]\n",
    "    else:\n",
    "        return \"\"\n",
    "    \n",
    "def play_simulation(_):\n",
    "    for i in range(slider.value, len(rgb_arrays) - slider.value - 1):\n",
    "        slider.value = slider.value + 1\n",
    "        display_image(slider.value)\n",
    "        time.sleep(0.2)\n",
    "\n",
    "def on_left_button_pressed(_):\n",
    "    if slider.value > 0:\n",
    "        slider.value = slider.value - 1 \n",
    "    display_image(slider.value)\n",
    "\n",
    "def on_right_button_pressed(_):\n",
    "    if slider.value < len(rgb_arrays):\n",
    "        slider.value = slider.value + 1 \n",
    "    display_image(slider.value)\n",
    "        \n",
    "def display_image(index):  \n",
    "    if index >= len(rgb_arrays):\n",
    "        return\n",
    "    info = infos[index]\n",
    "    action = actions[index]\n",
    "    heuristics = heuristics_remarks[index]\n",
    "    snake_colours = env.snakes.get_snake_colours()\n",
    "        \n",
    "    line_0 = [widgets.Label(\"Turn count\".format(info[\"current_turn\"])),\n",
    "                 widgets.Label(\"Snake\")]\n",
    "    \n",
    "    line_1 = [widgets.Label(\"\"), widgets.Label(\"Health\")]\n",
    "    \n",
    "    line_2 = [widgets.Label(\"{}\".format(info[\"current_turn\"])), \n",
    "              widgets.Label(\"Action\")]\n",
    "    \n",
    "    line_3 = [widgets.Label(\"\"), widgets.Label(\"Gym remarks\")]\n",
    "    \n",
    "    line_4 = [widgets.Label(\"\"), widgets.Label(\"Heur. remarks\")]\n",
    "\n",
    "    action_convertion_dict = {0: \"Up\", 1: \"Down\", 2: \"Left\", 3: \"Right\", 4: \"None\"}\n",
    "    for snake_id in range(number_of_snakes):\n",
    "        snake_health = \"{}\".format(info[\"snake_health\"][snake_id])\n",
    "        snake_health_widget = widgets.Label(snake_health)\n",
    "        snake_action = \"{}\".format(action_convertion_dict[action[snake_id]])\n",
    "        snake_action_widget = widgets.Label(snake_action)\n",
    "\n",
    "        snake_colour = snake_colours[snake_id]\n",
    "        hex_colour = '#%02x%02x%02x' % (snake_colour[0], snake_colour[1], snake_colour[2])\n",
    "        snake_colour_widget = widgets.HTML(value = f\"<b><font color=\"+hex_colour+\">⬤</b>\")\n",
    "\n",
    "        gym_remarks = \"\"\n",
    "        if snake_id in info[\"snake_info\"]:\n",
    "            if info[\"snake_info\"][snake_id] != \"Did not colide\": \n",
    "                gym_remarks = \"{}\".format(info[\"snake_info\"][snake_id])\n",
    "        gym_remarks_widget = widgets.Label(gym_remarks)\n",
    "        \n",
    "        heuris_remarks = \"{}\".format(heuristics[snake_id])\n",
    "        heuris_remarks_widget = widgets.Label(heuris_remarks)\n",
    "\n",
    "        line_0.append(snake_colour_widget)\n",
    "        line_1.append(snake_health_widget)\n",
    "        line_2.append(snake_action_widget)\n",
    "        line_3.append(gym_remarks_widget)\n",
    "        line_4.append(heuris_remarks_widget)\n",
    "\n",
    "    line_0_widget = widgets.VBox(line_0)\n",
    "    line_1_widget= widgets.VBox(line_1)\n",
    "    line_2_widget = widgets.VBox(line_2)\n",
    "    line_3_widget = widgets.VBox(line_3)\n",
    "    line_4_widget = widgets.VBox(line_4)\n",
    "   \n",
    "    info_widget = widgets.HBox([line_0_widget, line_1_widget, line_2_widget, line_3_widget, line_4_widget])\n",
    "        \n",
    "    image = PIL.Image.fromarray(rgb_arrays[index])\n",
    "    f = BytesIO()\n",
    "    image.save(f, \"png\")\n",
    "    \n",
    "    states_widget = widgets.Image(value=f.getvalue(), width=500)\n",
    "    main_widgets_list = [states_widget, info_widget]\n",
    "    \n",
    "    main_widget = widgets.HBox(main_widgets_list)\n",
    "    \n",
    "    display.clear_output(wait=True)\n",
    "    i_display(navigator)\n",
    "    i_display(main_widget)\n",
    "    \n",
    "left_button = widgets.Button(description='◄')\n",
    "left_button.on_click(on_left_button_pressed)\n",
    "right_button = widgets.Button(description='►')\n",
    "right_button.on_click(on_right_button_pressed)\n",
    "slider = widgets.IntSlider(max=len(rgb_arrays) - 1)\n",
    "play_button = widgets.Button(description='Play')\n",
    "play_button.on_click(play_simulation)\n",
    "\n",
    "navigator = widgets.HBox([left_button, right_button, slider, play_button])\n",
    "display_image(index=0)"
   ]
  },
  {
   "cell_type": "markdown",
   "metadata": {},
   "source": [
    "To get a JSON representation of the gym (environment), run the following function. You can also use output of the following function as an initial_state of the gym.\n",
    "\n",
    "*Please provide this json array if you are reporting bugs in the gym*"
   ]
  },
  {
   "cell_type": "code",
   "execution_count": null,
   "metadata": {},
   "outputs": [],
   "source": [
    "get_env_json()"
   ]
  },
  {
   "cell_type": "markdown",
   "metadata": {},
   "source": [
    "# Deploy the SageMaker endpoint\n",
    "This section will deploy your new heuristics into the SageMaker endpoint"
   ]
  },
  {
   "cell_type": "code",
   "execution_count": null,
   "metadata": {},
   "outputs": [],
   "source": [
    "with open(\"../stack_outputs.json\") as f:\n",
    "    info = json.load(f)"
   ]
  },
  {
   "cell_type": "code",
   "execution_count": null,
   "metadata": {},
   "outputs": [],
   "source": [
    "sage_session = sagemaker.session.Session()\n",
    "s3_bucket = info[\"S3Bucket\"]\n",
    "role = info[\"SageMakerIamRoleArn\"]\n",
    "endpoint_instance_type = info[\"SagemakerInferenceInstanceType\"]\n",
    "print(\"Your sagemaker s3_bucket is s3://{}\".format(s3_bucket))"
   ]
  },
  {
   "cell_type": "code",
   "execution_count": null,
   "metadata": {},
   "outputs": [],
   "source": [
    "model_data = \"s3://{}/pretrainedmodels/model.tar.gz\".format(s3_bucket)\n",
    "\n",
    "# Check if model_data exists\n",
    "s3_client = boto3.client('s3')\n",
    "\n",
    "try:\n",
    "    s3_client.get_object(Bucket=s3_bucket, Key=\"pretrainedmodels/model.tar.gz\")\n",
    "except botocore.errorfactory.ClientError:\n",
    "    model_data = info[\"EndPointS3Location\"]"
   ]
  },
  {
   "cell_type": "markdown",
   "metadata": {},
   "source": [
    "## Deploy your new heuristics\n",
    "Using the new heuristics you developed, a new SageMaker endpoint will be created.\n",
    "\n",
    "Firstly, delete the old endpoint, model and endpoint config."
   ]
  },
  {
   "cell_type": "code",
   "execution_count": null,
   "metadata": {},
   "outputs": [],
   "source": [
    "sm_client = boto3.client(service_name='sagemaker')\n",
    "try:\n",
    "    sm_client.delete_endpoint(EndpointName=info['SagemakerEndPointName'])\n",
    "    sm_client.delete_endpoint_config(EndpointConfigName=info['SagemakerEndPointName'])\n",
    "    sm_client.delete_model(ModelName=info['SagemakerEndPointName'])\n",
    "except botocore.errorfactory.ClientError:\n",
    "    print(\"Currently no endpoint\")"
   ]
  },
  {
   "cell_type": "markdown",
   "metadata": {},
   "source": [
    "Run the following cells to create a new model and endpoint with the new heuristics"
   ]
  },
  {
   "cell_type": "code",
   "execution_count": null,
   "metadata": {},
   "outputs": [],
   "source": [
    "from sagemaker.tensorflow.serving import Model\n",
    "\n",
    "model = Model(model_data=model_data,\n",
    "              role=role,\n",
    "              entry_point=\"inference.py\",\n",
    "              source_dir='inference/inference_src',\n",
    "              framework_version='2.1.0',\n",
    "              name=info['SagemakerEndPointName'],\n",
    "              code_location='s3://{}//code'.format(s3_bucket)\n",
    "            )\n",
    "\n",
    "# Deploy an inference endpoint\n",
    "predictor = model.deploy(initial_instance_count=1, instance_type=endpoint_instance_type, endpoint_name=info['SagemakerEndPointName'])"
   ]
  },
  {
   "cell_type": "markdown",
   "metadata": {},
   "source": [
    "## Testing the new endpoint\n",
    "You should see `Action to take is X`"
   ]
  },
  {
   "cell_type": "code",
   "execution_count": null,
   "metadata": {},
   "outputs": [],
   "source": [
    "import numpy as np\n",
    "from time import time\n",
    "\n",
    "state = np.zeros(shape=(1, 21, 21, 6), dtype=np.float32).tolist()\n",
    "\n",
    "health_dict = {0: 50, 1: 50}\n",
    "json = {\"turn\": 4,\n",
    "        \"board\": {\n",
    "                \"height\": 11,\n",
    "                \"width\": 11,\n",
    "                \"food\": [],\n",
    "                \"snakes\": []\n",
    "                },\n",
    "            \"you\": {\n",
    "                \"id\": \"snake-id-string\",\n",
    "                \"name\": \"Sneky Snek\",\n",
    "                \"health\": 90,\n",
    "                \"body\": [{\"x\": 1, \"y\": 3}]\n",
    "                }\n",
    "            }\n",
    "\n",
    "before = time()\n",
    "action_mask = np.array([1, 1, 1, 1]).tolist()\n",
    "\n",
    "action = predictor.predict({\"state\": state, \"action_mask\": action_mask,\n",
    "                            \"prev_action\": -1, \n",
    "                           \"prev_reward\": -1, \"seq_lens\": -1,  \n",
    "                           \"all_health\": health_dict, \"json\": json})\n",
    "elapsed = time() - before\n",
    "\n",
    "action_to_take = action[\"outputs\"][\"heuristisc_action\"]\n",
    "print(\"Action to take {}\".format(action_to_take))\n",
    "print(\"Inference took %.2f ms\" % (elapsed*1000))"
   ]
  },
  {
   "cell_type": "markdown",
   "metadata": {},
   "source": [
    "# Navigation\n",
    "- To go back to the introduction click [here](./1_Introduction.ipynb)\n",
    "- To train a new model click [here](./2_PolicyTraining.ipynb)"
   ]
  },
  {
   "cell_type": "code",
   "execution_count": null,
   "metadata": {},
   "outputs": [],
   "source": []
  }
 ],
 "metadata": {
  "kernelspec": {
   "display_name": "Python 3 (TensorFlow JumpStart)",
   "language": "python",
   "name": "HUB_1P_IMAGE"
  },
  "language_info": {
   "codemirror_mode": {
    "name": "ipython",
    "version": 3
   },
   "file_extension": ".py",
   "mimetype": "text/x-python",
   "name": "python",
   "nbconvert_exporter": "python",
   "pygments_lexer": "ipython3",
   "version": "3.7.8"
  }
 },
 "nbformat": 4,
 "nbformat_minor": 4
}
